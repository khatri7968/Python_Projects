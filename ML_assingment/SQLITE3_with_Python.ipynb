{
 "cells": [
  {
   "cell_type": "code",
   "execution_count": 2,
   "id": "fba137e5",
   "metadata": {},
   "outputs": [],
   "source": [
    "import sqlite3\n",
    "\n",
    "new_connection = sqlite3.connect(\"data_testing.db\")"
   ]
  },
  {
   "cell_type": "code",
   "execution_count": 3,
   "id": "cfff4c98",
   "metadata": {},
   "outputs": [
    {
     "data": {
      "text/plain": [
       "sqlite3.Connection"
      ]
     },
     "execution_count": 3,
     "metadata": {},
     "output_type": "execute_result"
    }
   ],
   "source": [
    "type(new_connection)"
   ]
  },
  {
   "cell_type": "code",
   "execution_count": 4,
   "id": "075339ae",
   "metadata": {},
   "outputs": [
    {
     "name": "stdout",
     "output_type": "stream",
     "text": [
      "<class 'sqlite3.Connection'>\n"
     ]
    }
   ],
   "source": [
    "print(type(new_connection))"
   ]
  },
  {
   "cell_type": "code",
   "execution_count": 5,
   "id": "4158ce0d",
   "metadata": {},
   "outputs": [
    {
     "name": "stdout",
     "output_type": "stream",
     "text": [
      "<class 'sqlite3.Cursor'>\n"
     ]
    }
   ],
   "source": [
    "new_cursor = new_connection.cursor()\n",
    "print(type(new_cursor))"
   ]
  },
  {
   "cell_type": "code",
   "execution_count": 6,
   "id": "0c842b56",
   "metadata": {},
   "outputs": [],
   "source": [
    "new_sql = \"SELECT datetime('now', 'localtime');\""
   ]
  },
  {
   "cell_type": "code",
   "execution_count": 7,
   "id": "9cefe300",
   "metadata": {},
   "outputs": [
    {
     "data": {
      "text/plain": [
       "<sqlite3.Cursor at 0x276238d2dc0>"
      ]
     },
     "execution_count": 7,
     "metadata": {},
     "output_type": "execute_result"
    }
   ],
   "source": [
    "new_cursor.execute(new_sql)"
   ]
  },
  {
   "cell_type": "code",
   "execution_count": 8,
   "id": "3e3286ea",
   "metadata": {},
   "outputs": [
    {
     "data": {
      "text/plain": [
       "('2023-08-25 00:40:23',)"
      ]
     },
     "execution_count": 8,
     "metadata": {},
     "output_type": "execute_result"
    }
   ],
   "source": [
    "new_cursor.fetchone()"
   ]
  },
  {
   "cell_type": "code",
   "execution_count": 9,
   "id": "1814ec39",
   "metadata": {},
   "outputs": [],
   "source": [
    "new_dtime = new_cursor.execute(new_sql).fetchone()[0]"
   ]
  },
  {
   "cell_type": "code",
   "execution_count": 10,
   "id": "6c74a10d",
   "metadata": {},
   "outputs": [
    {
     "name": "stdout",
     "output_type": "stream",
     "text": [
      "2023-08-25 00:41:57\n"
     ]
    }
   ],
   "source": [
    "print(new_dtime)"
   ]
  },
  {
   "cell_type": "code",
   "execution_count": 11,
   "id": "c662a88e",
   "metadata": {},
   "outputs": [],
   "source": [
    "new_connection.close()"
   ]
  },
  {
   "cell_type": "code",
   "execution_count": 12,
   "id": "6bc88a98",
   "metadata": {},
   "outputs": [],
   "source": [
    "with sqlite3.connect('data_testing.db') as new_connection:\n",
    "    new_cursor = new_connection.cursor()\n",
    "    new_sql = \"SELECT datetime('now', 'localtime');\"\n",
    "    new_dtime = new_cursor.execute(new_sql).fetchone()[0]\n",
    "    \n",
    "    "
   ]
  },
  {
   "cell_type": "code",
   "execution_count": 13,
   "id": "1967d696",
   "metadata": {},
   "outputs": [
    {
     "name": "stdout",
     "output_type": "stream",
     "text": [
      "2023-08-25 00:45:11\n"
     ]
    }
   ],
   "source": [
    "print(new_dtime)"
   ]
  },
  {
   "cell_type": "markdown",
   "id": "91e87611",
   "metadata": {},
   "source": [
    " # Create table with values"
   ]
  },
  {
   "cell_type": "code",
   "execution_count": 24,
   "id": "835903ad",
   "metadata": {},
   "outputs": [],
   "source": [
    "import sqlite3\n",
    "\n",
    "new_connection = sqlite3.connect('data_testing.db')\n",
    "new_cursor = new_connection.cursor()\n",
    "\n",
    "new_cursor.execute(\"CREATE TABLE clients(Name TEXT, Number INT);\")\n",
    "\n",
    "new_cursor.execute(\"INSERT INTO clients VALUES('Dany', 2030)\")\n",
    "\n",
    "new_connection.commit()\n",
    "new_connection.close()"
   ]
  },
  {
   "cell_type": "code",
   "execution_count": 25,
   "id": "82b030f4",
   "metadata": {},
   "outputs": [
    {
     "data": {
      "text/plain": [
       "<sqlite3.Cursor at 0x276238d3140>"
      ]
     },
     "execution_count": 25,
     "metadata": {},
     "output_type": "execute_result"
    }
   ],
   "source": [
    "new_connection = sqlite3.connect('data_testing.db')\n",
    "new_cursor = new_connection.cursor()\n",
    "\n",
    "new_cursor.execute(\"SELECT * FROM clients\")"
   ]
  },
  {
   "cell_type": "code",
   "execution_count": 26,
   "id": "30ba8fa2",
   "metadata": {},
   "outputs": [
    {
     "name": "stdout",
     "output_type": "stream",
     "text": [
      "('Dany', 2030)\n"
     ]
    }
   ],
   "source": [
    "new_cursor.fetchone()\n",
    "\n",
    "data = new_cursor.fetchall()\n",
    "for i in data:\n",
    "    print(i)"
   ]
  },
  {
   "cell_type": "code",
   "execution_count": 27,
   "id": "402e653b",
   "metadata": {},
   "outputs": [
    {
     "data": {
      "text/plain": [
       "<sqlite3.Cursor at 0x276238d3140>"
      ]
     },
     "execution_count": 27,
     "metadata": {},
     "output_type": "execute_result"
    }
   ],
   "source": [
    "new_cursor.execute(\"DROP TABLE clients\")"
   ]
  },
  {
   "cell_type": "code",
   "execution_count": 28,
   "id": "6d51bd64",
   "metadata": {},
   "outputs": [],
   "source": [
    "new_connection.commit()"
   ]
  },
  {
   "cell_type": "markdown",
   "id": "9f89e087",
   "metadata": {},
   "source": [
    "# Full program to fecth all data from data_testing"
   ]
  },
  {
   "cell_type": "code",
   "execution_count": 29,
   "id": "c0245a70",
   "metadata": {},
   "outputs": [
    {
     "name": "stdout",
     "output_type": "stream",
     "text": [
      "('Messi', 38)\n",
      "('Salah', 11)\n"
     ]
    }
   ],
   "source": [
    "import sqlite3\n",
    "\n",
    "new_values = (\n",
    "    (\"Ronaldo\", 7),\n",
    "    (\"Messi\", 38),\n",
    "    (\"Salah\", 11),\n",
    ")\n",
    "with sqlite3.connect(\"data_testing.db\") as new_connection:\n",
    "    new_cursor = new_connection.cursor()\n",
    "    new_cursor.execute(\"DROP TABLE IF EXISTS clients\")\n",
    "    new_cursor.execute(\"CREATE TABLE clients (Name TEXT, Number INT);\")\n",
    "    \n",
    "    new_cursor.executemany(\"INSERT INTO clients VALUES (?, ?)\", new_values)\n",
    "    \n",
    "    new_cursor.execute(\"SELECT Name, Number FROM clients WHERE Number> 7;\")\n",
    "    \n",
    "    for x in new_cursor.fetchall():\n",
    "        print(x)"
   ]
  },
  {
   "cell_type": "code",
   "execution_count": null,
   "id": "543badaa",
   "metadata": {},
   "outputs": [],
   "source": []
  }
 ],
 "metadata": {
  "kernelspec": {
   "display_name": "Python 3 (ipykernel)",
   "language": "python",
   "name": "python3"
  },
  "language_info": {
   "codemirror_mode": {
    "name": "ipython",
    "version": 3
   },
   "file_extension": ".py",
   "mimetype": "text/x-python",
   "name": "python",
   "nbconvert_exporter": "python",
   "pygments_lexer": "ipython3",
   "version": "3.10.9"
  }
 },
 "nbformat": 4,
 "nbformat_minor": 5
}
