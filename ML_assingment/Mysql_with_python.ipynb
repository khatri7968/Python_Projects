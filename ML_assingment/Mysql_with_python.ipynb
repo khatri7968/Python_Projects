{
 "cells": [
  {
   "cell_type": "code",
   "execution_count": 5,
   "id": "209de59a",
   "metadata": {},
   "outputs": [
    {
     "name": "stdout",
     "output_type": "stream",
     "text": [
      "Collecting mysql-connector-python-rf\n",
      "  Downloading mysql-connector-python-rf-2.2.2.tar.gz (11.9 MB)\n",
      "     -------------------------------------- 11.9/11.9 MB 101.3 kB/s eta 0:00:00\n",
      "  Preparing metadata (setup.py): started\n",
      "  Preparing metadata (setup.py): finished with status 'done'\n",
      "Building wheels for collected packages: mysql-connector-python-rf\n",
      "  Building wheel for mysql-connector-python-rf (setup.py): started\n",
      "  Building wheel for mysql-connector-python-rf (setup.py): finished with status 'done'\n",
      "  Created wheel for mysql-connector-python-rf: filename=mysql_connector_python_rf-2.2.2-cp310-cp310-win_amd64.whl size=249453 sha256=97459b6d7126fae374e508f5cc6722e4dced5a2358d15778111a69cf2dbe5e2d\n",
      "  Stored in directory: c:\\users\\engrp\\appdata\\local\\pip\\cache\\wheels\\6e\\7d\\63\\f1e829bfbd126cd52625ed99c60ae9f09f52c7b6a76dec070c\n",
      "Successfully built mysql-connector-python-rf\n",
      "Installing collected packages: mysql-connector-python-rf\n",
      "Successfully installed mysql-connector-python-rf-2.2.2\n"
     ]
    }
   ],
   "source": [
    "!pip install mysql-connector-python-rf"
   ]
  },
  {
   "cell_type": "code",
   "execution_count": 8,
   "id": "1b440f45",
   "metadata": {},
   "outputs": [
    {
     "name": "stdout",
     "output_type": "stream",
     "text": [
      "<mysql.connector.connection_cext.CMySQLConnection object at 0x000001B6712CF370>\n"
     ]
    }
   ],
   "source": [
    "import mysql.connector\n",
    "\n",
    "new_db = mysql.connector.connect(\n",
    "    host = \"localhost\",\n",
    "    user = \"root\",\n",
    "    password = \"M@psa#926\"\n",
    ")\n",
    "\n",
    "print(new_db)"
   ]
  },
  {
   "cell_type": "markdown",
   "id": "48a63139",
   "metadata": {},
   "source": [
    "# Creating a Database"
   ]
  },
  {
   "cell_type": "code",
   "execution_count": 16,
   "id": "65ceb56d",
   "metadata": {},
   "outputs": [
    {
     "name": "stdout",
     "output_type": "stream",
     "text": [
      "<mysql.connector.connection_cext.CMySQLConnection object at 0x000001B67368BEB0>\n",
      "('information_schema',)\n",
      "('mydata',)\n",
      "('mysql',)\n",
      "('pawandb',)\n",
      "('performance_schema',)\n",
      "('sakila',)\n",
      "('sys',)\n",
      "('world',)\n"
     ]
    }
   ],
   "source": [
    "import mysql.connector\n",
    "\n",
    "new_db = mysql.connector.connect(\n",
    "    host = \"localhost\",\n",
    "    user = \"root\",\n",
    "    password = \"M@psa#926\"\n",
    ")\n",
    "\n",
    "print(new_db)\n",
    "\n",
    "new_cursor = new_db.cursor()\n",
    "\n",
    "# new_cursor.execute(\"CREATE DATABASE myData\")\n",
    "\n",
    "\n",
    "\n",
    "new_cursor.execute(\"SHOW DATABASES\")\n",
    "\n",
    "for db in new_cursor:\n",
    "    print(db)"
   ]
  },
  {
   "cell_type": "markdown",
   "id": "86d2837f",
   "metadata": {},
   "source": [
    "# Checking Database exist or not"
   ]
  },
  {
   "cell_type": "code",
   "execution_count": 18,
   "id": "1ba128ac",
   "metadata": {},
   "outputs": [],
   "source": [
    "# new_cursor.execute(\"SHOW DATABASES\")\n",
    "\n",
    "# for db in new_cursor:\n",
    "#     print(db)\n",
    "    \n",
    "import mysql.connector\n",
    "\n",
    "new_db = mysql.connector.connect(\n",
    "    host = \"localhost\",\n",
    "    user = \"root\",\n",
    "    password = \"M@psa#926\",\n",
    "    database = 'mydata'\n",
    ")"
   ]
  },
  {
   "cell_type": "markdown",
   "id": "e08f64e8",
   "metadata": {},
   "source": [
    "# Creating Tables & Showing Data"
   ]
  },
  {
   "cell_type": "code",
   "execution_count": 19,
   "id": "7ad6fc17",
   "metadata": {},
   "outputs": [],
   "source": [
    "import mysql.connector\n",
    "\n",
    "new_db = mysql.connector.connect(\n",
    "    host = \"localhost\",\n",
    "    user = \"root\",\n",
    "    password = \"M@psa#926\",\n",
    "    database = 'mydata'\n",
    ")\n",
    "\n",
    "\n",
    "new_cursor = new_db.cursor()\n",
    "\n",
    "new_cursor.execute(\"CREATE TABLE students (name VARCHAR(255), code VARCHAR(255))\")\n"
   ]
  },
  {
   "cell_type": "markdown",
   "id": "190810a8",
   "metadata": {},
   "source": [
    "# List all tables in mydata database"
   ]
  },
  {
   "cell_type": "code",
   "execution_count": 20,
   "id": "64da665f",
   "metadata": {},
   "outputs": [
    {
     "name": "stdout",
     "output_type": "stream",
     "text": [
      "('students',)\n"
     ]
    }
   ],
   "source": [
    "import mysql.connector\n",
    "\n",
    "new_db = mysql.connector.connect(\n",
    "    host = \"localhost\",\n",
    "    user = \"root\",\n",
    "    password = \"M@psa#926\",\n",
    "    database = 'mydata'\n",
    ")\n",
    "\n",
    "\n",
    "new_cursor = new_db.cursor()\n",
    "\n",
    "new_cursor.execute(\"SHOW TABLES\")\n",
    "\n",
    "for x in new_cursor:\n",
    "    print(x)\n"
   ]
  },
  {
   "cell_type": "markdown",
   "id": "24b20d0e",
   "metadata": {},
   "source": [
    "# Add PRIMARY KEY when creating table"
   ]
  },
  {
   "cell_type": "code",
   "execution_count": 21,
   "id": "f2a2ca46",
   "metadata": {},
   "outputs": [],
   "source": [
    "import mysql.connector\n",
    "\n",
    "new_db = mysql.connector.connect(\n",
    "    host = \"localhost\",\n",
    "    user = \"root\",\n",
    "    password = \"M@psa#926\",\n",
    "    database = 'mydata'\n",
    ")\n",
    "\n",
    "\n",
    "new_cursor = new_db.cursor()\n",
    "new_cursor.execute(\"CREATE TABLE clients (id INT AUTO_INCREMENT PRIMARY KEY, name VARCHAR(255), code VARCHAR(255))\")"
   ]
  },
  {
   "cell_type": "markdown",
   "id": "6dcf2624",
   "metadata": {},
   "source": [
    "# Add PRIMARY KEY if table already exists"
   ]
  },
  {
   "cell_type": "code",
   "execution_count": 22,
   "id": "f7c94b64",
   "metadata": {},
   "outputs": [],
   "source": [
    "import mysql.connector\n",
    "\n",
    "new_db = mysql.connector.connect(\n",
    "    host = \"localhost\",\n",
    "    user = \"root\",\n",
    "    password = \"M@psa#926\",\n",
    "    database = 'mydata'\n",
    ")\n",
    "\n",
    "\n",
    "new_cursor = new_db.cursor()\n",
    "new_cursor.execute(\"ALTER TABLE students ADD COLUMN id INT AUTO_INCREMENT PRIMARY KEY\")"
   ]
  },
  {
   "cell_type": "markdown",
   "id": "47c3af4f",
   "metadata": {},
   "source": [
    "# Inserting Data into tables"
   ]
  },
  {
   "cell_type": "code",
   "execution_count": 38,
   "id": "8416eada",
   "metadata": {},
   "outputs": [
    {
     "name": "stdout",
     "output_type": "stream",
     "text": [
      "1 new record inserted\n"
     ]
    }
   ],
   "source": [
    "import mysql.connector\n",
    "\n",
    "new_db = mysql.connector.connect(\n",
    "    host = \"localhost\",\n",
    "    user = \"root\",\n",
    "    password = \"M@psa#926\",\n",
    "    database = 'mydata'\n",
    ")\n",
    "\n",
    "\n",
    "new_cursor = new_db.cursor()\n",
    "\n",
    "new_sql = \"INSERT INTO students (name, code) VALUES (%s, %s)\"\n",
    "new_vals = (\"Virat\", \"code01\")\n",
    "\n",
    "new_cursor.execute(new_sql, new_vals)\n",
    "\n",
    "new_db.commit()\n",
    "\n",
    "print(new_cursor.rowcount, \"new record inserted\")"
   ]
  },
  {
   "cell_type": "markdown",
   "id": "e1d1711d",
   "metadata": {},
   "source": [
    "# Inserting Multiple Records into tables"
   ]
  },
  {
   "cell_type": "code",
   "execution_count": 39,
   "id": "bd219502",
   "metadata": {},
   "outputs": [
    {
     "name": "stdout",
     "output_type": "stream",
     "text": [
      "4 new record inserted\n"
     ]
    }
   ],
   "source": [
    "import mysql.connector\n",
    "\n",
    "new_db = mysql.connector.connect(\n",
    "    host = \"localhost\",\n",
    "    user = \"root\",\n",
    "    password = \"M@psa#926\",\n",
    "    database = 'mydata'\n",
    ")\n",
    "\n",
    "\n",
    "new_cursor = new_db.cursor()\n",
    "\n",
    "new_sql = \"INSERT INTO students (name, code) VALUES (%s, %s)\"\n",
    "new_vals = [\n",
    "    (\"Amir\", \"code02\"),\n",
    "    (\"Babar\", \"code03\"),\n",
    "    (\"Naseem\", \"code04\"),\n",
    "    (\"CH Gayle\", \"code05\")\n",
    "]\n",
    "\n",
    "new_cursor.executemany(new_sql, new_vals)\n",
    "\n",
    "new_db.commit()\n",
    "\n",
    "print(new_cursor.rowcount, \"new record inserted\")"
   ]
  },
  {
   "cell_type": "markdown",
   "id": "6f293a6f",
   "metadata": {},
   "source": [
    "# Select Table's data"
   ]
  },
  {
   "cell_type": "code",
   "execution_count": 40,
   "id": "797bf35b",
   "metadata": {},
   "outputs": [
    {
     "name": "stdout",
     "output_type": "stream",
     "text": [
      "('Virat', 'code01', 1)\n",
      "('Amir', 'code02', 2)\n",
      "('Naseem', 'code04', 4)\n",
      "('CH Gayle', 'code05', 5)\n",
      "('Virat', 'code01', 6)\n",
      "('Amir', 'code02', 7)\n",
      "('Naseem', 'code04', 9)\n",
      "('CH Gayle', 'code05', 10)\n",
      "('Virat', 'code01', 11)\n",
      "('Amir', 'code02', 12)\n",
      "('Babar', 'code03', 13)\n",
      "('Naseem', 'code04', 14)\n",
      "('CH Gayle', 'code05', 15)\n"
     ]
    }
   ],
   "source": [
    "import mysql.connector\n",
    "\n",
    "new_db = mysql.connector.connect(\n",
    "    host = \"localhost\",\n",
    "    user = \"root\",\n",
    "    password = \"M@psa#926\",\n",
    "    database = 'mydata'\n",
    ")\n",
    "\n",
    "\n",
    "new_cursor = new_db.cursor()\n",
    "\n",
    "new_cursor.execute(\"SELECT * FROM students\")\n",
    "\n",
    "new_data = new_cursor.fetchall()\n",
    "\n",
    "for i in new_data:\n",
    "    print(i)"
   ]
  },
  {
   "cell_type": "markdown",
   "id": "d3f8b297",
   "metadata": {},
   "source": [
    "# Select Columns"
   ]
  },
  {
   "cell_type": "code",
   "execution_count": 41,
   "id": "9ee52433",
   "metadata": {},
   "outputs": [
    {
     "name": "stdout",
     "output_type": "stream",
     "text": [
      "('Virat', 'code01')\n",
      "('Amir', 'code02')\n",
      "('Naseem', 'code04')\n",
      "('CH Gayle', 'code05')\n",
      "('Virat', 'code01')\n",
      "('Amir', 'code02')\n",
      "('Naseem', 'code04')\n",
      "('CH Gayle', 'code05')\n",
      "('Virat', 'code01')\n",
      "('Amir', 'code02')\n",
      "('Babar', 'code03')\n",
      "('Naseem', 'code04')\n",
      "('CH Gayle', 'code05')\n"
     ]
    }
   ],
   "source": [
    "import mysql.connector\n",
    "\n",
    "new_db = mysql.connector.connect(\n",
    "    host = \"localhost\",\n",
    "    user = \"root\",\n",
    "    password = \"M@psa#926\",\n",
    "    database = 'mydata'\n",
    ")\n",
    "\n",
    "\n",
    "new_cursor = new_db.cursor()\n",
    "\n",
    "new_cursor.execute(\"SELECT name, code from students\")\n",
    "\n",
    "new_data = new_cursor.fetchall()\n",
    "\n",
    "for i in new_data:\n",
    "    print(i)"
   ]
  },
  {
   "cell_type": "code",
   "execution_count": 42,
   "id": "d035a1fd",
   "metadata": {},
   "outputs": [
    {
     "name": "stdout",
     "output_type": "stream",
     "text": [
      "('Virat',)\n",
      "('Amir',)\n",
      "('Naseem',)\n",
      "('CH Gayle',)\n",
      "('Virat',)\n",
      "('Amir',)\n",
      "('Naseem',)\n",
      "('CH Gayle',)\n",
      "('Virat',)\n",
      "('Amir',)\n",
      "('Babar',)\n",
      "('Naseem',)\n",
      "('CH Gayle',)\n"
     ]
    }
   ],
   "source": [
    "import mysql.connector\n",
    "\n",
    "new_db = mysql.connector.connect(\n",
    "    host = \"localhost\",\n",
    "    user = \"root\",\n",
    "    password = \"M@psa#926\",\n",
    "    database = 'mydata'\n",
    ")\n",
    "\n",
    "\n",
    "new_cursor = new_db.cursor()\n",
    "\n",
    "new_cursor.execute(\"SELECT name from students\")\n",
    "\n",
    "new_data = new_cursor.fetchall()\n",
    "\n",
    "for i in new_data:\n",
    "    print(i)"
   ]
  },
  {
   "cell_type": "markdown",
   "id": "c48f77f8",
   "metadata": {},
   "source": [
    "# Select single record"
   ]
  },
  {
   "cell_type": "code",
   "execution_count": 43,
   "id": "c4f5b62e",
   "metadata": {},
   "outputs": [
    {
     "name": "stdout",
     "output_type": "stream",
     "text": [
      "('Virat', 'code01')\n"
     ]
    }
   ],
   "source": [
    "import mysql.connector\n",
    "\n",
    "new_db = mysql.connector.connect(\n",
    "    host = \"localhost\",\n",
    "    user = \"root\",\n",
    "    password = \"M@psa#926\",\n",
    "    database = 'mydata'\n",
    ")\n",
    "\n",
    "\n",
    "new_cursor = new_db.cursor()\n",
    "\n",
    "new_cursor.execute(\"SELECT name, code from students\")\n",
    "\n",
    "new_data = new_cursor.fetchone()\n",
    "\n",
    "print(new_data)"
   ]
  },
  {
   "cell_type": "code",
   "execution_count": 44,
   "id": "efe61e0c",
   "metadata": {},
   "outputs": [
    {
     "name": "stdout",
     "output_type": "stream",
     "text": [
      "('Virat', 'code01', 1)\n"
     ]
    }
   ],
   "source": [
    "import mysql.connector\n",
    "\n",
    "new_db = mysql.connector.connect(\n",
    "    host = \"localhost\",\n",
    "    user = \"root\",\n",
    "    password = \"M@psa#926\",\n",
    "    database = 'mydata'\n",
    ")\n",
    "\n",
    "\n",
    "new_cursor = new_db.cursor()\n",
    "\n",
    "new_cursor.execute(\"SELECT * from students\")\n",
    "\n",
    "new_data = new_cursor.fetchone()\n",
    "\n",
    "print(new_data)"
   ]
  },
  {
   "cell_type": "markdown",
   "id": "43d3186d",
   "metadata": {},
   "source": [
    "# Filter the result"
   ]
  },
  {
   "cell_type": "code",
   "execution_count": 45,
   "id": "eca05f81",
   "metadata": {},
   "outputs": [
    {
     "name": "stdout",
     "output_type": "stream",
     "text": [
      "('CH Gayle', 'code05', 5)\n",
      "('CH Gayle', 'code05', 10)\n",
      "('CH Gayle', 'code05', 15)\n"
     ]
    }
   ],
   "source": [
    "import mysql.connector\n",
    "\n",
    "new_db = mysql.connector.connect(\n",
    "    host = \"localhost\",\n",
    "    user = \"root\",\n",
    "    password = \"M@psa#926\",\n",
    "    database = 'mydata'\n",
    ")\n",
    "\n",
    "\n",
    "new_cursor = new_db.cursor()\n",
    "\n",
    "new_sql = \"SELECT * from students where name = 'CH Gayle'\"\n",
    "\n",
    "new_cursor.execute(new_sql)\n",
    "\n",
    "new_data = new_cursor.fetchall()\n",
    "\n",
    "for i in new_data:\n",
    "    print(i)"
   ]
  },
  {
   "cell_type": "code",
   "execution_count": 46,
   "id": "631da725",
   "metadata": {},
   "outputs": [
    {
     "name": "stdout",
     "output_type": "stream",
     "text": [
      "('Virat', 'code01', 1)\n",
      "('Virat', 'code01', 6)\n",
      "('Virat', 'code01', 11)\n"
     ]
    }
   ],
   "source": [
    "import mysql.connector\n",
    "\n",
    "new_db = mysql.connector.connect(\n",
    "    host = \"localhost\",\n",
    "    user = \"root\",\n",
    "    password = \"M@psa#926\",\n",
    "    database = 'mydata'\n",
    ")\n",
    "\n",
    "\n",
    "new_cursor = new_db.cursor()\n",
    "\n",
    "new_sql = \"SELECT * from students where name = 'Virat'\"\n",
    "\n",
    "new_cursor.execute(new_sql)\n",
    "\n",
    "new_data = new_cursor.fetchall()\n",
    "\n",
    "for i in new_data:\n",
    "    print(i)"
   ]
  },
  {
   "cell_type": "code",
   "execution_count": 47,
   "id": "4b46b364",
   "metadata": {},
   "outputs": [
    {
     "name": "stdout",
     "output_type": "stream",
     "text": [
      "('Amir', 'code02', 2)\n",
      "('Amir', 'code02', 7)\n",
      "('Amir', 'code02', 12)\n"
     ]
    }
   ],
   "source": [
    "import mysql.connector\n",
    "\n",
    "new_db = mysql.connector.connect(\n",
    "    host = \"localhost\",\n",
    "    user = \"root\",\n",
    "    password = \"M@psa#926\",\n",
    "    database = 'mydata'\n",
    ")\n",
    "\n",
    "\n",
    "new_cursor = new_db.cursor()\n",
    "\n",
    "new_sql = \"SELECT * from students where code = 'code02'\"\n",
    "\n",
    "new_cursor.execute(new_sql)\n",
    "\n",
    "new_data = new_cursor.fetchall()\n",
    "\n",
    "for i in new_data:\n",
    "    print(i)"
   ]
  },
  {
   "cell_type": "markdown",
   "id": "102278f2",
   "metadata": {},
   "source": [
    "# Wild Card Characters (*%*)"
   ]
  },
  {
   "cell_type": "code",
   "execution_count": 48,
   "id": "bac9257c",
   "metadata": {},
   "outputs": [
    {
     "name": "stdout",
     "output_type": "stream",
     "text": [
      "('Virat', 'code01', 1)\n",
      "('Virat', 'code01', 6)\n",
      "('Virat', 'code01', 11)\n"
     ]
    }
   ],
   "source": [
    "import mysql.connector\n",
    "\n",
    "new_db = mysql.connector.connect(\n",
    "    host = \"localhost\",\n",
    "    user = \"root\",\n",
    "    password = \"M@psa#926\",\n",
    "    database = 'mydata'\n",
    ")\n",
    "\n",
    "\n",
    "new_cursor = new_db.cursor()\n",
    "\n",
    "new_sql = \"SELECT * from students where name like 'Virat'\"\n",
    "\n",
    "new_cursor.execute(new_sql)\n",
    "\n",
    "new_data = new_cursor.fetchall()\n",
    "\n",
    "for i in new_data:\n",
    "    print(i)"
   ]
  },
  {
   "cell_type": "markdown",
   "id": "1784ddb7",
   "metadata": {},
   "source": [
    "# Sorting the results"
   ]
  },
  {
   "cell_type": "code",
   "execution_count": 49,
   "id": "b1b9fae4",
   "metadata": {},
   "outputs": [
    {
     "name": "stdout",
     "output_type": "stream",
     "text": [
      "('Amir', 'code02', 2)\n",
      "('Amir', 'code02', 7)\n",
      "('Amir', 'code02', 12)\n",
      "('Babar', 'code03', 13)\n",
      "('CH Gayle', 'code05', 5)\n",
      "('CH Gayle', 'code05', 10)\n",
      "('CH Gayle', 'code05', 15)\n",
      "('Naseem', 'code04', 4)\n",
      "('Naseem', 'code04', 9)\n",
      "('Naseem', 'code04', 14)\n",
      "('Virat', 'code01', 1)\n",
      "('Virat', 'code01', 6)\n",
      "('Virat', 'code01', 11)\n"
     ]
    }
   ],
   "source": [
    "import mysql.connector\n",
    "\n",
    "new_db = mysql.connector.connect(\n",
    "    host = \"localhost\",\n",
    "    user = \"root\",\n",
    "    password = \"M@psa#926\",\n",
    "    database = 'mydata'\n",
    ")\n",
    "\n",
    "\n",
    "new_cursor = new_db.cursor()\n",
    "\n",
    "new_sql = \"SELECT * from students ORDER BY name\"\n",
    "\n",
    "new_cursor.execute(new_sql)\n",
    "\n",
    "new_data = new_cursor.fetchall()\n",
    "\n",
    "for i in new_data:\n",
    "    print(i)"
   ]
  },
  {
   "cell_type": "code",
   "execution_count": 50,
   "id": "5c483181",
   "metadata": {},
   "outputs": [
    {
     "name": "stdout",
     "output_type": "stream",
     "text": [
      "('CH Gayle', 'code05', 5)\n",
      "('CH Gayle', 'code05', 10)\n",
      "('CH Gayle', 'code05', 15)\n",
      "('Naseem', 'code04', 4)\n",
      "('Naseem', 'code04', 9)\n",
      "('Naseem', 'code04', 14)\n",
      "('Babar', 'code03', 13)\n",
      "('Amir', 'code02', 2)\n",
      "('Amir', 'code02', 7)\n",
      "('Amir', 'code02', 12)\n",
      "('Virat', 'code01', 1)\n",
      "('Virat', 'code01', 6)\n",
      "('Virat', 'code01', 11)\n"
     ]
    }
   ],
   "source": [
    "import mysql.connector\n",
    "\n",
    "new_db = mysql.connector.connect(\n",
    "    host = \"localhost\",\n",
    "    user = \"root\",\n",
    "    password = \"M@psa#926\",\n",
    "    database = 'mydata'\n",
    ")\n",
    "\n",
    "\n",
    "new_cursor = new_db.cursor()\n",
    "\n",
    "new_sql = \"SELECT * from students ORDER BY code DESC\"\n",
    "\n",
    "new_cursor.execute(new_sql)\n",
    "\n",
    "new_data = new_cursor.fetchall()\n",
    "\n",
    "for i in new_data:\n",
    "    print(i)"
   ]
  },
  {
   "cell_type": "markdown",
   "id": "d81c0716",
   "metadata": {},
   "source": [
    "# Deleting Records and Preventing SQL Injections"
   ]
  },
  {
   "cell_type": "code",
   "execution_count": 51,
   "id": "3191a975",
   "metadata": {},
   "outputs": [
    {
     "name": "stdout",
     "output_type": "stream",
     "text": [
      "1 records deleted from new data\n"
     ]
    }
   ],
   "source": [
    "import mysql.connector\n",
    "\n",
    "new_db = mysql.connector.connect(\n",
    "    host = \"localhost\",\n",
    "    user = \"root\",\n",
    "    password = \"M@psa#926\",\n",
    "    database = 'mydata'\n",
    ")\n",
    "\n",
    "\n",
    "new_cursor = new_db.cursor()\n",
    "\n",
    "# prevent SQL injections\n",
    "new_sql = \"DELETE FROM students WHERE name = %s\"\n",
    "name = ('Babar',)\n",
    "\n",
    "new_cursor.execute(new_sql, name)\n",
    "\n",
    "new_db.commit()\n",
    "\n",
    "print(new_cursor.rowcount, \"records deleted from new data\")"
   ]
  },
  {
   "cell_type": "markdown",
   "id": "2f67140d",
   "metadata": {},
   "source": [
    "# Deleting table"
   ]
  },
  {
   "cell_type": "code",
   "execution_count": 52,
   "id": "4f0c4e12",
   "metadata": {},
   "outputs": [],
   "source": [
    "import mysql.connector\n",
    "\n",
    "new_db = mysql.connector.connect(\n",
    "    host = \"localhost\",\n",
    "    user = \"root\",\n",
    "    password = \"M@psa#926\",\n",
    "    database = 'mydata'\n",
    ")\n",
    "\n",
    "\n",
    "new_cursor = new_db.cursor()\n",
    "\n",
    "new_sql = \"DROP TABLE clients\"\n",
    "\n",
    "new_cursor.execute(new_sql)"
   ]
  },
  {
   "cell_type": "code",
   "execution_count": 53,
   "id": "075f368b",
   "metadata": {},
   "outputs": [],
   "source": [
    "import mysql.connector\n",
    "\n",
    "new_db = mysql.connector.connect(\n",
    "    host = \"localhost\",\n",
    "    user = \"root\",\n",
    "    password = \"M@psa#926\",\n",
    "    database = 'mydata'\n",
    ")\n",
    "\n",
    "\n",
    "new_cursor = new_db.cursor()\n",
    "\n",
    "new_sql = \"DROP TABLE IF EXISTS clients\"\n",
    "\n",
    "new_cursor.execute(new_sql)"
   ]
  },
  {
   "cell_type": "markdown",
   "id": "dcd0f9ec",
   "metadata": {},
   "source": [
    "# Updating table"
   ]
  },
  {
   "cell_type": "code",
   "execution_count": 54,
   "id": "603ecc76",
   "metadata": {},
   "outputs": [
    {
     "name": "stdout",
     "output_type": "stream",
     "text": [
      "3 records changed in students table\n"
     ]
    }
   ],
   "source": [
    "import mysql.connector\n",
    "\n",
    "new_db = mysql.connector.connect(\n",
    "    host = \"localhost\",\n",
    "    user = \"root\",\n",
    "    password = \"M@psa#926\",\n",
    "    database = 'mydata'\n",
    ")\n",
    "\n",
    "\n",
    "new_cursor = new_db.cursor()\n",
    "\n",
    "new_sql = \"UPDATE students SET code = 'code08' WHERE code='code01'\"\n",
    "\n",
    "new_cursor.execute(new_sql)\n",
    "\n",
    "new_db.commit()\n",
    "\n",
    "print(new_cursor.rowcount, \"records changed in students table\")"
   ]
  },
  {
   "cell_type": "markdown",
   "id": "e34b1723",
   "metadata": {},
   "source": [
    "## To prevent SQL Injections use below technique"
   ]
  },
  {
   "cell_type": "code",
   "execution_count": 58,
   "id": "6e941221",
   "metadata": {},
   "outputs": [
    {
     "name": "stdout",
     "output_type": "stream",
     "text": [
      "3 records changed in students table\n"
     ]
    }
   ],
   "source": [
    "import mysql.connector\n",
    "\n",
    "new_db = mysql.connector.connect(\n",
    "    host = \"localhost\",\n",
    "    user = \"root\",\n",
    "    password = \"M@psa#926\",\n",
    "    database = 'mydata'\n",
    ")\n",
    "\n",
    "\n",
    "new_cursor = new_db.cursor()\n",
    "\n",
    "new_sql = \"UPDATE students SET code = %s WHERE code = %s\"\n",
    "\n",
    "new_vals = (\"code10\", \"code02\")\n",
    "\n",
    "new_cursor.execute(new_sql, new_vals)\n",
    "\n",
    "new_db.commit()\n",
    "\n",
    "print(new_cursor.rowcount, \"records changed in students table\")"
   ]
  },
  {
   "cell_type": "markdown",
   "id": "140ac3a1",
   "metadata": {},
   "source": [
    "# Limit the records"
   ]
  },
  {
   "cell_type": "code",
   "execution_count": 63,
   "id": "ac474e25",
   "metadata": {},
   "outputs": [
    {
     "name": "stdout",
     "output_type": "stream",
     "text": [
      "('Virat', 'code08', 1)\n",
      "('Amir', 'code10', 2)\n",
      "('Naseem', 'code04', 4)\n",
      "('CH Gayle', 'code05', 5)\n",
      "('Virat', 'code08', 6)\n"
     ]
    }
   ],
   "source": [
    "import mysql.connector\n",
    "\n",
    "new_db = mysql.connector.connect(\n",
    "    host = \"localhost\",\n",
    "    user = \"root\",\n",
    "    password = \"M@psa#926\",\n",
    "    database = 'mydata'\n",
    ")\n",
    "\n",
    "\n",
    "new_cursor = new_db.cursor()\n",
    "\n",
    "new_sql = \"SELECT * from students LIMIT 5\"\n",
    "\n",
    "new_cursor.execute(new_sql)\n",
    "\n",
    "new_data = new_cursor.fetchall()\n",
    "\n",
    "for i in new_data:\n",
    "    print(i)"
   ]
  },
  {
   "cell_type": "code",
   "execution_count": 64,
   "id": "d23c26d2",
   "metadata": {},
   "outputs": [
    {
     "name": "stdout",
     "output_type": "stream",
     "text": [
      "('Virat', 'code08', 6)\n",
      "('Amir', 'code10', 7)\n",
      "('Naseem', 'code04', 9)\n"
     ]
    }
   ],
   "source": [
    "import mysql.connector\n",
    "\n",
    "new_db = mysql.connector.connect(\n",
    "    host = \"localhost\",\n",
    "    user = \"root\",\n",
    "    password = \"M@psa#926\",\n",
    "    database = 'mydata'\n",
    ")\n",
    "\n",
    "\n",
    "new_cursor = new_db.cursor()\n",
    "\n",
    "# We have select 3 records after the record no: 4\n",
    "new_sql = \"SELECT * from students LIMIT 3 OFFSET 4\"\n",
    "\n",
    "new_cursor.execute(new_sql)\n",
    "\n",
    "new_data = new_cursor.fetchall()\n",
    "\n",
    "for i in new_data:\n",
    "    print(i)"
   ]
  },
  {
   "cell_type": "code",
   "execution_count": null,
   "id": "a04bd865",
   "metadata": {},
   "outputs": [],
   "source": []
  }
 ],
 "metadata": {
  "kernelspec": {
   "display_name": "Python 3 (ipykernel)",
   "language": "python",
   "name": "python3"
  },
  "language_info": {
   "codemirror_mode": {
    "name": "ipython",
    "version": 3
   },
   "file_extension": ".py",
   "mimetype": "text/x-python",
   "name": "python",
   "nbconvert_exporter": "python",
   "pygments_lexer": "ipython3",
   "version": "3.10.9"
  }
 },
 "nbformat": 4,
 "nbformat_minor": 5
}
