{
 "cells": [
  {
   "cell_type": "code",
   "execution_count": 7,
   "id": "772a295e",
   "metadata": {},
   "outputs": [],
   "source": [
    "import mysql.connector\n",
    "\n",
    "new_db = mysql.connector.connect(\n",
    "    host = \"localhost\",\n",
    "    user = \"root\",\n",
    "    password = \"M@psa#926\",\n",
    "    database = 'homework'\n",
    ")\n",
    "\n",
    "new_cursor = new_db.cursor()\n",
    "\n",
    "new_cursor.execute(\"CREATE TABLE orders (OrderID INT, OrderDate DATE, Qty INT, CustomerID INT, Productcategory VARCHAR(255), Price INT)\")"
   ]
  },
  {
   "cell_type": "code",
   "execution_count": 23,
   "id": "08f9bb4f",
   "metadata": {},
   "outputs": [
    {
     "name": "stdout",
     "output_type": "stream",
     "text": [
      "1 Rows inserted\n"
     ]
    }
   ],
   "source": [
    "import mysql.connector\n",
    "\n",
    "new_db = mysql.connector.connect(\n",
    "    host = \"localhost\",\n",
    "    user = \"root\",\n",
    "    password = \"M@psa#926\",\n",
    "    database = 'homework'\n",
    ")\n",
    "\n",
    "new_cursor = new_db.cursor()\n",
    "\n",
    "new_cursor.execute(\"INSERT INTO orders (OrderID, OrderDate, Qty, CustomerID, Productcategory, Price) VALUES (1, '2023-01-01', 2, 10, 'Electronics', 110)\")\n",
    "\n",
    "print(new_cursor.rowcount, \"Rows inserted\")\n",
    "\n",
    "new_db.commit()"
   ]
  },
  {
   "cell_type": "code",
   "execution_count": 25,
   "id": "640f08a6",
   "metadata": {},
   "outputs": [
    {
     "name": "stdout",
     "output_type": "stream",
     "text": [
      "6 Rows inserted\n"
     ]
    }
   ],
   "source": [
    "import mysql.connector\n",
    "\n",
    "new_db = mysql.connector.connect(\n",
    "    host = \"localhost\",\n",
    "    user = \"root\",\n",
    "    password = \"M@psa#926\",\n",
    "    database = 'homework'\n",
    ")\n",
    "\n",
    "new_cursor = new_db.cursor()\n",
    "\n",
    "new_cursor.execute(\"\"\"\n",
    "    INSERT INTO orders (OrderID, OrderDate, Qty, CustomerID, Productcategory, Price) \n",
    "    VALUES \n",
    "    (2, '2023-01-01', 2, 11, 'Home', 10),\n",
    "    (3, '2023-01-01', 2, 11, 'Kitchen', 80),\n",
    "    (4, '2023-01-01', 2, 12, 'Electronics', 11),\n",
    "    (5, '2023-01-01', 2, 12, 'Outdoor', 19),\n",
    "    (6, '2023-01-01', 2, 13, 'Outdoor', 217),\n",
    "    (7, '2023-01-01', 2, 13, 'Home', 8)\n",
    "\"\"\")\n",
    "\n",
    "print(new_cursor.rowcount, \"Rows inserted\")\n",
    "\n",
    "new_db.commit()"
   ]
  },
  {
   "cell_type": "code",
   "execution_count": 26,
   "id": "b77dfa6b",
   "metadata": {},
   "outputs": [
    {
     "name": "stdout",
     "output_type": "stream",
     "text": [
      "[(1, datetime.date(2023, 1, 1), 2, 10, 'Electronics', 110), (2, datetime.date(2023, 1, 1), 2, 11, 'Home', 10), (3, datetime.date(2023, 1, 1), 2, 11, 'Kitchen', 80), (4, datetime.date(2023, 1, 1), 2, 12, 'Electronics', 11), (5, datetime.date(2023, 1, 1), 2, 12, 'Outdoor', 19), (6, datetime.date(2023, 1, 1), 2, 13, 'Outdoor', 217), (7, datetime.date(2023, 1, 1), 2, 13, 'Home', 8)]\n",
      "(1, datetime.date(2023, 1, 1), 2, 10, 'Electronics', 110)\n",
      "(2, datetime.date(2023, 1, 1), 2, 11, 'Home', 10)\n",
      "(3, datetime.date(2023, 1, 1), 2, 11, 'Kitchen', 80)\n",
      "(4, datetime.date(2023, 1, 1), 2, 12, 'Electronics', 11)\n",
      "(5, datetime.date(2023, 1, 1), 2, 12, 'Outdoor', 19)\n",
      "(6, datetime.date(2023, 1, 1), 2, 13, 'Outdoor', 217)\n",
      "(7, datetime.date(2023, 1, 1), 2, 13, 'Home', 8)\n"
     ]
    }
   ],
   "source": [
    "import mysql.connector\n",
    "\n",
    "new_db = mysql.connector.connect(\n",
    "    host = \"localhost\",\n",
    "    user = \"root\",\n",
    "    password = \"M@psa#926\",\n",
    "    database = 'homework'\n",
    ")\n",
    "\n",
    "\n",
    "new_cursor = new_db.cursor()\n",
    "\n",
    "new_cursor.execute(\"SELECT * FROM orders\")\n",
    "\n",
    "new_data = new_cursor.fetchall()\n",
    "\n",
    "print(new_data)\n",
    "for i in new_data:\n",
    "    print(i)"
   ]
  },
  {
   "cell_type": "code",
   "execution_count": null,
   "id": "dc2962f5",
   "metadata": {},
   "outputs": [],
   "source": []
  },
  {
   "cell_type": "code",
   "execution_count": null,
   "id": "99bdb3cd",
   "metadata": {},
   "outputs": [],
   "source": []
  },
  {
   "cell_type": "code",
   "execution_count": 6,
   "id": "11574e4f",
   "metadata": {},
   "outputs": [],
   "source": [
    "import mysql.connector\n",
    "\n",
    "new_db = mysql.connector.connect(\n",
    "    host = \"localhost\",\n",
    "    user = \"root\",\n",
    "    password = \"M@psa#926\",\n",
    "    database = 'homework'\n",
    ")\n",
    "\n",
    "new_cursor = new_db.cursor()\n",
    "\n",
    "new_cursor.execute(\"DROP TABLE orders\")\n",
    "\n",
    "new_db.commit()"
   ]
  }
 ],
 "metadata": {
  "kernelspec": {
   "display_name": "Python 3 (ipykernel)",
   "language": "python",
   "name": "python3"
  },
  "language_info": {
   "codemirror_mode": {
    "name": "ipython",
    "version": 3
   },
   "file_extension": ".py",
   "mimetype": "text/x-python",
   "name": "python",
   "nbconvert_exporter": "python",
   "pygments_lexer": "ipython3",
   "version": "3.10.9"
  }
 },
 "nbformat": 4,
 "nbformat_minor": 5
}
