{
 "cells": [
  {
   "cell_type": "code",
   "execution_count": 1,
   "id": "5200f9ea",
   "metadata": {},
   "outputs": [
    {
     "name": "stdout",
     "output_type": "stream",
     "text": [
      "Collecting pymongo\n",
      "  Obtaining dependency information for pymongo from https://files.pythonhosted.org/packages/7a/88/a6b3661960518dbc656b67fefb85efff874d58ba0f3c31bda216d5726a02/pymongo-4.5.0-cp310-cp310-win_amd64.whl.metadata\n",
      "  Downloading pymongo-4.5.0-cp310-cp310-win_amd64.whl.metadata (22 kB)\n",
      "Requirement already satisfied: dnspython<3.0.0,>=1.16.0 in c:\\users\\engrp\\appdata\\local\\programs\\python\\python310\\lib\\site-packages (from pymongo) (2.2.1)\n",
      "Downloading pymongo-4.5.0-cp310-cp310-win_amd64.whl (468 kB)\n",
      "   -------------------------------------- 468.2/468.2 kB 523.4 kB/s eta 0:00:00\n",
      "Installing collected packages: pymongo\n",
      "Successfully installed pymongo-4.5.0\n"
     ]
    }
   ],
   "source": [
    "!pip install pymongo"
   ]
  },
  {
   "cell_type": "code",
   "execution_count": 2,
   "id": "92e45eb4",
   "metadata": {},
   "outputs": [],
   "source": [
    "import pymongo"
   ]
  },
  {
   "cell_type": "code",
   "execution_count": 8,
   "id": "17e6fdcc",
   "metadata": {},
   "outputs": [
    {
     "name": "stdout",
     "output_type": "stream",
     "text": [
      "64e859ca9f69cc4dc57ee245\n"
     ]
    }
   ],
   "source": [
    "new_client = pymongo.MongoClient('mongodb://localhost:27017')\n",
    "\n",
    "new_db = new_client['data_test']\n",
    "\n",
    "new_col = new_db['students']\n",
    "\n",
    "new_dict = {\"name\": \"Virat Kohli\", \"code\": \"code01\"}\n",
    "\n",
    "adding = new_col.insert_one(new_dict)\n",
    "\n",
    "print(adding.inserted_id)"
   ]
  },
  {
   "cell_type": "markdown",
   "id": "98b6b7fe",
   "metadata": {},
   "source": [
    "# Adding multiple documents"
   ]
  },
  {
   "cell_type": "code",
   "execution_count": 10,
   "id": "9cae2b17",
   "metadata": {},
   "outputs": [
    {
     "name": "stdout",
     "output_type": "stream",
     "text": [
      "[ObjectId('64e85c0a9f69cc4dc57ee248'), ObjectId('64e85c0a9f69cc4dc57ee249'), ObjectId('64e85c0a9f69cc4dc57ee24a'), ObjectId('64e85c0a9f69cc4dc57ee24b'), ObjectId('64e85c0a9f69cc4dc57ee24c'), ObjectId('64e85c0a9f69cc4dc57ee24d'), ObjectId('64e85c0a9f69cc4dc57ee24e')]\n"
     ]
    }
   ],
   "source": [
    "import pymongo \n",
    "\n",
    "new_Client = pymongo.MongoClient('mongodb://localhost:27017')\n",
    "\n",
    "new_col = new_db['players']\n",
    "\n",
    "lsit_of_players = [\n",
    "    {\"name\": \"M. Amir\", \"code\":\"code01\"},\n",
    "    {\"name\": \"ABD Villiars\", \"code\":\"code02\"},\n",
    "    {\"name\": \"CH Gayle\", \"code\":\"code03\"},\n",
    "    {\"name\": \"MS Dhoni\", \"code\":\"code04\"},\n",
    "    {\"name\": \"Umer Gul\", \"code\":\"code05\"},\n",
    "    {\"name\": \"Mitchle Starc\", \"code\":\"code06\"},\n",
    "    {\"name\": \"Babar\", \"code\":\"code07\"}\n",
    "]\n",
    "\n",
    "adding_many = new_col.insert_many(lsit_of_players)\n",
    "\n",
    "print(adding_many.inserted_ids)"
   ]
  },
  {
   "cell_type": "markdown",
   "id": "a92afb70",
   "metadata": {},
   "source": [
    "# Insert ID's manually"
   ]
  },
  {
   "cell_type": "code",
   "execution_count": 11,
   "id": "c4894cb9",
   "metadata": {},
   "outputs": [
    {
     "name": "stdout",
     "output_type": "stream",
     "text": [
      "[1, 2, 3, 4, 5, 6, 7]\n"
     ]
    }
   ],
   "source": [
    "import pymongo \n",
    "\n",
    "new_Client = pymongo.MongoClient('mongodb://localhost:27017')\n",
    "\n",
    "new_col = new_db['new_students']\n",
    "\n",
    "lsit_of_students = [\n",
    "    {\"_id\": 1, \"name\": \"Wajid\", \"code\":\"code01\"},\n",
    "    {\"_id\": 2, \"name\": \"Muazam\", \"code\":\"code02\"},\n",
    "    {\"_id\": 3, \"name\": \"Pardeep\", \"code\":\"code03\"},\n",
    "    {\"_id\": 4, \"name\": \"Mukesh\", \"code\":\"code04\"},\n",
    "    {\"_id\": 5, \"name\": \"Anand\", \"code\":\"code05\"},\n",
    "    {\"_id\": 6, \"name\": \"Hitesh\", \"code\":\"code06\"},\n",
    "    {\"_id\": 7, \"name\": \"Arsam\", \"code\":\"code07\"}\n",
    "]\n",
    "\n",
    "adding_many = new_col.insert_many(lsit_of_students)\n",
    "\n",
    "print(adding_many.inserted_ids)"
   ]
  },
  {
   "cell_type": "markdown",
   "id": "5cfc0989",
   "metadata": {},
   "source": [
    "# Fetching data from our collections"
   ]
  },
  {
   "cell_type": "code",
   "execution_count": 12,
   "id": "38646a47",
   "metadata": {},
   "outputs": [
    {
     "name": "stdout",
     "output_type": "stream",
     "text": [
      "{'_id': 1, 'name': 'Wajid', 'code': 'code01'}\n"
     ]
    }
   ],
   "source": [
    "finding = new_col.find_one()\n",
    "print(finding)"
   ]
  },
  {
   "cell_type": "code",
   "execution_count": 13,
   "id": "0c587c52",
   "metadata": {},
   "outputs": [
    {
     "name": "stdout",
     "output_type": "stream",
     "text": [
      "{'_id': 1, 'name': 'Wajid', 'code': 'code01'}\n",
      "{'_id': 2, 'name': 'Muazam', 'code': 'code02'}\n",
      "{'_id': 3, 'name': 'Pardeep', 'code': 'code03'}\n",
      "{'_id': 4, 'name': 'Mukesh', 'code': 'code04'}\n",
      "{'_id': 5, 'name': 'Anand', 'code': 'code05'}\n",
      "{'_id': 6, 'name': 'Hitesh', 'code': 'code06'}\n",
      "{'_id': 7, 'name': 'Arsam', 'code': 'code07'}\n"
     ]
    }
   ],
   "source": [
    "for doc in new_col.find():\n",
    "    print(doc)"
   ]
  },
  {
   "cell_type": "markdown",
   "id": "2cd8fde1",
   "metadata": {},
   "source": [
    "# Fetching specified data"
   ]
  },
  {
   "cell_type": "code",
   "execution_count": 14,
   "id": "d14e566a",
   "metadata": {},
   "outputs": [
    {
     "name": "stdout",
     "output_type": "stream",
     "text": [
      "{'_id': 1, 'name': 'Wajid', 'code': 'code01'}\n"
     ]
    }
   ],
   "source": [
    "import pymongo\n",
    "\n",
    "new_client = pymongo.MongoClient('mongodb://localhost:27017')\n",
    "\n",
    "new_db = new_client['data_test']\n",
    "\n",
    "new_col = new_db['new_students']\n",
    "\n",
    "new_query = {\"code\" : \"code01\"}\n",
    "\n",
    "new_doc = new_col.find(new_query)\n",
    "\n",
    "for i in new_doc:\n",
    "    print(i)"
   ]
  },
  {
   "cell_type": "code",
   "execution_count": 15,
   "id": "063616ce",
   "metadata": {},
   "outputs": [
    {
     "name": "stdout",
     "output_type": "stream",
     "text": [
      "{'_id': 1, 'name': 'Wajid', 'code': 'code01'}\n",
      "{'_id': 2, 'name': 'Muazam', 'code': 'code02'}\n",
      "{'_id': 3, 'name': 'Pardeep', 'code': 'code03'}\n",
      "{'_id': 4, 'name': 'Mukesh', 'code': 'code04'}\n",
      "{'_id': 5, 'name': 'Anand', 'code': 'code05'}\n",
      "{'_id': 6, 'name': 'Hitesh', 'code': 'code06'}\n",
      "{'_id': 7, 'name': 'Arsam', 'code': 'code07'}\n"
     ]
    }
   ],
   "source": [
    "import pymongo\n",
    "\n",
    "new_client = pymongo.MongoClient('mongodb://localhost:27017')\n",
    "\n",
    "new_db = new_client['data_test']\n",
    "\n",
    "new_col = new_db['new_students']\n",
    "\n",
    "new_query = {\"code\" : {\"$gt\": \"code\"} }\n",
    "\n",
    "new_doc = new_col.find(new_query)\n",
    "\n",
    "for i in new_doc:\n",
    "    print(i)"
   ]
  },
  {
   "cell_type": "markdown",
   "id": "aa4ab16d",
   "metadata": {},
   "source": [
    "# Sorting the data"
   ]
  },
  {
   "cell_type": "code",
   "execution_count": 16,
   "id": "ee834844",
   "metadata": {},
   "outputs": [
    {
     "name": "stdout",
     "output_type": "stream",
     "text": [
      "{'_id': 5, 'name': 'Anand', 'code': 'code05'}\n",
      "{'_id': 7, 'name': 'Arsam', 'code': 'code07'}\n",
      "{'_id': 6, 'name': 'Hitesh', 'code': 'code06'}\n",
      "{'_id': 2, 'name': 'Muazam', 'code': 'code02'}\n",
      "{'_id': 4, 'name': 'Mukesh', 'code': 'code04'}\n",
      "{'_id': 3, 'name': 'Pardeep', 'code': 'code03'}\n",
      "{'_id': 1, 'name': 'Wajid', 'code': 'code01'}\n"
     ]
    }
   ],
   "source": [
    "new_query = new_col.find().sort(\"name\")\n",
    "\n",
    "for i in new_query:\n",
    "    print(i)"
   ]
  },
  {
   "cell_type": "code",
   "execution_count": 17,
   "id": "3ed15553",
   "metadata": {},
   "outputs": [
    {
     "name": "stdout",
     "output_type": "stream",
     "text": [
      "{'_id': 1, 'name': 'Wajid', 'code': 'code01'}\n",
      "{'_id': 3, 'name': 'Pardeep', 'code': 'code03'}\n",
      "{'_id': 4, 'name': 'Mukesh', 'code': 'code04'}\n",
      "{'_id': 2, 'name': 'Muazam', 'code': 'code02'}\n",
      "{'_id': 6, 'name': 'Hitesh', 'code': 'code06'}\n",
      "{'_id': 7, 'name': 'Arsam', 'code': 'code07'}\n",
      "{'_id': 5, 'name': 'Anand', 'code': 'code05'}\n"
     ]
    }
   ],
   "source": [
    "new_query = new_col.find().sort(\"name\", -1)\n",
    "\n",
    "for i in new_query:\n",
    "    print(i)"
   ]
  },
  {
   "cell_type": "markdown",
   "id": "092a04c3",
   "metadata": {},
   "source": [
    "# Deleting Documents"
   ]
  },
  {
   "cell_type": "code",
   "execution_count": 18,
   "id": "ac21e476",
   "metadata": {},
   "outputs": [
    {
     "name": "stdout",
     "output_type": "stream",
     "text": [
      "{'_id': 2, 'name': 'Muazam', 'code': 'code02'}\n",
      "{'_id': 3, 'name': 'Pardeep', 'code': 'code03'}\n",
      "{'_id': 4, 'name': 'Mukesh', 'code': 'code04'}\n",
      "{'_id': 5, 'name': 'Anand', 'code': 'code05'}\n",
      "{'_id': 6, 'name': 'Hitesh', 'code': 'code06'}\n",
      "{'_id': 7, 'name': 'Arsam', 'code': 'code07'}\n"
     ]
    }
   ],
   "source": [
    "new_query = {\"code\": \"code01\"}\n",
    "\n",
    "new_col.delete_one(new_query)\n",
    "\n",
    "for x in new_col.find():\n",
    "    print(x)"
   ]
  },
  {
   "cell_type": "code",
   "execution_count": 20,
   "id": "88e5eaca",
   "metadata": {},
   "outputs": [
    {
     "name": "stdout",
     "output_type": "stream",
     "text": [
      "0 documents deletd from collection!\n",
      "{'_id': 2, 'name': 'Muazam', 'code': 'code02'}\n",
      "{'_id': 3, 'name': 'Pardeep', 'code': 'code03'}\n",
      "{'_id': 4, 'name': 'Mukesh', 'code': 'code04'}\n",
      "{'_id': 5, 'name': 'Anand', 'code': 'code05'}\n",
      "{'_id': 6, 'name': 'Hitesh', 'code': 'code06'}\n",
      "{'_id': 7, 'name': 'Arsam', 'code': 'code07'}\n"
     ]
    }
   ],
   "source": [
    "new_query = {\"name\": {\"$regex\": \"^code03\"}}\n",
    "\n",
    "x = new_col.delete_many(new_query)\n",
    "\n",
    "print(x.deleted_count, \"documents deletd from collection!\")\n",
    "\n",
    "for i in new_col.find():\n",
    "    print(i)"
   ]
  },
  {
   "cell_type": "code",
   "execution_count": 21,
   "id": "1534c003",
   "metadata": {},
   "outputs": [
    {
     "name": "stdout",
     "output_type": "stream",
     "text": [
      "1 documents deletd from collection!\n",
      "{'_id': 2, 'name': 'Muazam', 'code': 'code02'}\n",
      "{'_id': 4, 'name': 'Mukesh', 'code': 'code04'}\n",
      "{'_id': 5, 'name': 'Anand', 'code': 'code05'}\n",
      "{'_id': 6, 'name': 'Hitesh', 'code': 'code06'}\n",
      "{'_id': 7, 'name': 'Arsam', 'code': 'code07'}\n"
     ]
    }
   ],
   "source": [
    "new_query = {\"code\": {\"$regex\": \"^code03\"}}\n",
    "\n",
    "x = new_col.delete_many(new_query)\n",
    "\n",
    "print(x.deleted_count, \"documents deletd from collection!\")\n",
    "\n",
    "for i in new_col.find():\n",
    "    print(i)"
   ]
  },
  {
   "cell_type": "code",
   "execution_count": 22,
   "id": "6493cf8a",
   "metadata": {},
   "outputs": [
    {
     "name": "stdout",
     "output_type": "stream",
     "text": [
      "5 documents deletd from collection!\n"
     ]
    }
   ],
   "source": [
    "remove_all = new_col.delete_many({})\n",
    "\n",
    "print(remove_all.deleted_count, \"documents deletd from collection!\")"
   ]
  },
  {
   "cell_type": "markdown",
   "id": "1d89d573",
   "metadata": {},
   "source": [
    "# Droping the collection"
   ]
  },
  {
   "cell_type": "code",
   "execution_count": 23,
   "id": "5ebb4995",
   "metadata": {},
   "outputs": [],
   "source": [
    "new_col.drop()"
   ]
  },
  {
   "cell_type": "markdown",
   "id": "2cef36df",
   "metadata": {},
   "source": [
    "# Updating the documents"
   ]
  },
  {
   "cell_type": "code",
   "execution_count": 24,
   "id": "70c2dab8",
   "metadata": {},
   "outputs": [],
   "source": [
    "import pymongo \n",
    "\n",
    "new_Client = pymongo.MongoClient('mongodb://localhost:27017')\n",
    "\n",
    "new_col = new_db['new_students']\n",
    "\n",
    "lsit_of_students = [\n",
    "    {\"_id\": 1, \"name\": \"Wajid\", \"code\":\"code00\"},\n",
    "    {\"_id\": 2, \"name\": \"Muazam\", \"code\":\"code01\"},\n",
    "    {\"_id\": 3, \"name\": \"Pardeep\", \"code\":\"code02\"},\n",
    "    {\"_id\": 4, \"name\": \"Mukesh\", \"code\":\"code03\"},\n",
    "    {\"_id\": 5, \"name\": \"Anand\", \"code\":\"code04\"},\n",
    "    {\"_id\": 6, \"name\": \"Hitesh\", \"code\":\"code05\"},\n",
    "    {\"_id\": 7, \"name\": \"Arsam\", \"code\":\"code06\"}\n",
    "]\n",
    "\n",
    "adding_many = new_col.insert_many(lsit_of_students)"
   ]
  },
  {
   "cell_type": "code",
   "execution_count": 25,
   "id": "d27082c4",
   "metadata": {},
   "outputs": [
    {
     "name": "stdout",
     "output_type": "stream",
     "text": [
      "{'_id': 1, 'name': 'Wajid', 'code': 'codeZero'}\n",
      "{'_id': 2, 'name': 'Muazam', 'code': 'code01'}\n",
      "{'_id': 3, 'name': 'Pardeep', 'code': 'code02'}\n",
      "{'_id': 4, 'name': 'Mukesh', 'code': 'code03'}\n",
      "{'_id': 5, 'name': 'Anand', 'code': 'code04'}\n",
      "{'_id': 6, 'name': 'Hitesh', 'code': 'code05'}\n",
      "{'_id': 7, 'name': 'Arsam', 'code': 'code06'}\n"
     ]
    }
   ],
   "source": [
    "new_query = {\"code\": \"code00\"}\n",
    "new_vals = {\"$set\": {\"code\": \"codeZero\"}}\n",
    "\n",
    "new_col.update_one(new_query, new_vals)\n",
    "\n",
    "for i in new_col.find():\n",
    "    print(i)"
   ]
  },
  {
   "cell_type": "code",
   "execution_count": 26,
   "id": "a71b13d5",
   "metadata": {},
   "outputs": [
    {
     "name": "stdout",
     "output_type": "stream",
     "text": [
      "{'_id': 1, 'name': 'Wajid', 'code': 'codeZero'}\n",
      "{'_id': 2, 'name': 'Muazam', 'code': 'code01'}\n",
      "{'_id': 3, 'name': 'Pardeep', 'code': 'code02'}\n"
     ]
    }
   ],
   "source": [
    "result_filter = new_col.find().limit(3)\n",
    "\n",
    "for i in result_filter:\n",
    "    print(i)"
   ]
  },
  {
   "cell_type": "code",
   "execution_count": 27,
   "id": "9db3cfd5",
   "metadata": {},
   "outputs": [
    {
     "name": "stdout",
     "output_type": "stream",
     "text": [
      "{'_id': 1, 'name': 'Wajid', 'code': 'codeZero'}\n",
      "{'_id': 2, 'name': 'Muazam', 'code': 'code01'}\n",
      "{'_id': 3, 'name': 'Pardeep', 'code': 'code02'}\n",
      "{'_id': 4, 'name': 'Mukesh', 'code': 'code03'}\n"
     ]
    }
   ],
   "source": [
    "result_filter = new_col.find().limit(4)\n",
    "\n",
    "for i in result_filter:\n",
    "    print(i)"
   ]
  },
  {
   "cell_type": "code",
   "execution_count": null,
   "id": "db2a782d",
   "metadata": {},
   "outputs": [],
   "source": []
  }
 ],
 "metadata": {
  "kernelspec": {
   "display_name": "Python 3 (ipykernel)",
   "language": "python",
   "name": "python3"
  },
  "language_info": {
   "codemirror_mode": {
    "name": "ipython",
    "version": 3
   },
   "file_extension": ".py",
   "mimetype": "text/x-python",
   "name": "python",
   "nbconvert_exporter": "python",
   "pygments_lexer": "ipython3",
   "version": "3.10.9"
  }
 },
 "nbformat": 4,
 "nbformat_minor": 5
}
