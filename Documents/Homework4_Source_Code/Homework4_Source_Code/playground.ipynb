{
 "cells": [
  {
   "cell_type": "code",
   "execution_count": 1,
   "metadata": {},
   "outputs": [],
   "source": [
    "import torch\n",
    "import os\n",
    "import matplotlib.pyplot as plt\n",
    "from DataPreparation import DataPreparation\n",
    "from Model import FashionMNISTModelV2\n",
    "from Trainer import Trainer\n",
    "from ConfigParser import ConfigParser\n"
   ]
  },
  {
   "cell_type": "markdown",
   "metadata": {},
   "source": [
    "# test_model"
   ]
  },
  {
   "cell_type": "code",
   "execution_count": 2,
   "metadata": {},
   "outputs": [
    {
     "name": "stdout",
     "output_type": "stream",
     "text": [
      "Cnn Model Prediction Result: tensor([[ 0.0367, -0.0128,  0.0117, -0.0197,  0.0221, -0.0406,  0.0430,  0.0368,\n",
      "         -0.0063, -0.0161]], grad_fn=<AddmmBackward0>)\n"
     ]
    }
   ],
   "source": [
    "config = ConfigParser(os.path.join(os.getcwd(), 'config.yaml'))\n",
    "meta_config = config.get_config()[\"meta\"]\n",
    "cnn_model = FashionMNISTModelV2(input_shape=1,hidden_units=30,output_shape=10)\n",
    "data_preparation = DataPreparation(meta_config[\"data_save_path\"])\n",
    "train_data, test_data = data_preparation.get_data()\n",
    "images, labels = next(iter(test_data))\n",
    "images = images.unsqueeze(0)\n",
    "test_inference = cnn_model(images)\n",
    "print(f\"Cnn Model Prediction Result: {test_inference}\")\n"
   ]
  },
  {
   "cell_type": "markdown",
   "metadata": {},
   "source": [
    "# test_training"
   ]
  },
  {
   "cell_type": "markdown",
   "metadata": {},
   "source": [
    "You can run the main.py file to train the model and also test the model. In additionally, the main.py also save the model prediction plot."
   ]
  }
 ],
 "metadata": {
  "kernelspec": {
   "display_name": "Python 3",
   "language": "python",
   "name": "python3"
  },
  "language_info": {
   "codemirror_mode": {
    "name": "ipython",
    "version": 3
   },
   "file_extension": ".py",
   "mimetype": "text/x-python",
   "name": "python",
   "nbconvert_exporter": "python",
   "pygments_lexer": "ipython3",
   "version": "3.10.12"
  }
 },
 "nbformat": 4,
 "nbformat_minor": 2
}
